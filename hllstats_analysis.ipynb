{
 "cells": [
  {
   "cell_type": "markdown",
   "metadata": {},
   "source": [
    "# This notebook will perform a Least Squares Regression Analysis of Hell Let Loose game data.\n",
    "\n",
    "This analysis will show which factors are the most important when predicting the number of \"victory points\" (and therefore Win or Loss result) gained during a match of Hell Let Loose. The prevailing assumption is that the number of nodes built and squad leader quality have the greatest effect on match outcome. Using regression analysis on data that we've collected, we will attempt to see if that assumption holds up."
   ]
  },
  {
   "cell_type": "markdown",
   "metadata": {},
   "source": [
    "## Importing and prepping the data:"
   ]
  },
  {
   "cell_type": "code",
   "execution_count": 57,
   "metadata": {},
   "outputs": [],
   "source": [
    "import numpy as np\n",
    "import pandas as pd\n",
    "import seaborn as sns\n",
    "import scipy.stats as stats\n",
    "import matplotlib.pyplot as plt\n",
    "import statsmodels.api as sm\n",
    "import statsmodels.stats.api as sms"
   ]
  },
  {
   "cell_type": "code",
   "execution_count": 58,
   "metadata": {},
   "outputs": [],
   "source": [
    "import warnings\n",
    "\n",
    "warnings.filterwarnings(\"ignore\")"
   ]
  },
  {
   "cell_type": "code",
   "execution_count": 69,
   "metadata": {},
   "outputs": [
    {
     "name": "stdout",
     "output_type": "stream",
     "text": [
      "<class 'pandas.core.frame.DataFrame'>\n",
      "Int64Index: 60 entries, 1 to 60\n",
      "Data columns (total 9 columns):\n",
      " #   Column    Non-Null Count  Dtype \n",
      "---  ------    --------------  ----- \n",
      " 0   Date      60 non-null     object\n",
      " 1   Map       60 non-null     object\n",
      " 2   Mode      60 non-null     object\n",
      " 3   Side      60 non-null     object\n",
      " 4   Takeover  60 non-null     int64 \n",
      " 5   Nodes     60 non-null     int64 \n",
      " 6   SL_Qual   60 non-null     int64 \n",
      " 7   Points    60 non-null     int64 \n",
      " 8   Win       60 non-null     int64 \n",
      "dtypes: int64(5), object(4)\n",
      "memory usage: 4.7+ KB\n"
     ]
    }
   ],
   "source": [
    "import os\n",
    "\n",
    "pwd = os.getcwd()\n",
    "\n",
    "path = pwd + \"/raw_data/\"\n",
    "\n",
    "hll_df = pd.read_csv(path + 'HLL.csv', index_col='Game_ID', parse_dates= True)\n",
    "\n",
    "hll_df.info()"
   ]
  },
  {
   "cell_type": "markdown",
   "metadata": {},
   "source": [
    "## Building a Model:\n",
    "\n",
    "Because we are working with a relatively small dataset (<100 points), and the emphasis is on model fit as opposed to prediction, we will not utilize a test/training split.\n",
    "\n",
    "We will not use the factor \"takeover\" as this is exclusive to commanding stats, and we want to generally apply our data to all matches."
   ]
  },
  {
   "cell_type": "code",
   "execution_count": 93,
   "metadata": {},
   "outputs": [
    {
     "data": {
      "text/html": [
       "<table class=\"simpletable\">\n",
       "<caption>OLS Regression Results</caption>\n",
       "<tr>\n",
       "  <th>Dep. Variable:</th>         <td>Points</td>      <th>  R-squared:         </th> <td>   0.686</td>\n",
       "</tr>\n",
       "<tr>\n",
       "  <th>Model:</th>                   <td>OLS</td>       <th>  Adj. R-squared:    </th> <td>   0.578</td>\n",
       "</tr>\n",
       "<tr>\n",
       "  <th>Method:</th>             <td>Least Squares</td>  <th>  F-statistic:       </th> <td>   6.398</td>\n",
       "</tr>\n",
       "<tr>\n",
       "  <th>Date:</th>             <td>Sun, 30 Jan 2022</td> <th>  Prob (F-statistic):</th> <td>6.72e-07</td>\n",
       "</tr>\n",
       "<tr>\n",
       "  <th>Time:</th>                 <td>18:47:46</td>     <th>  Log-Likelihood:    </th> <td> -93.914</td>\n",
       "</tr>\n",
       "<tr>\n",
       "  <th>No. Observations:</th>      <td>    60</td>      <th>  AIC:               </th> <td>   219.8</td>\n",
       "</tr>\n",
       "<tr>\n",
       "  <th>Df Residuals:</th>          <td>    44</td>      <th>  BIC:               </th> <td>   253.3</td>\n",
       "</tr>\n",
       "<tr>\n",
       "  <th>Df Model:</th>              <td>    15</td>      <th>                     </th>     <td> </td>   \n",
       "</tr>\n",
       "<tr>\n",
       "  <th>Covariance Type:</th>      <td>nonrobust</td>    <th>                     </th>     <td> </td>   \n",
       "</tr>\n",
       "</table>\n",
       "<table class=\"simpletable\">\n",
       "<tr>\n",
       "              <td></td>                <th>coef</th>     <th>std err</th>      <th>t</th>      <th>P>|t|</th>  <th>[0.025</th>    <th>0.975]</th>  \n",
       "</tr>\n",
       "<tr>\n",
       "  <th>Intercept</th>                <td>   -4.1214</td> <td>    1.127</td> <td>   -3.657</td> <td> 0.001</td> <td>   -6.393</td> <td>   -1.850</td>\n",
       "</tr>\n",
       "<tr>\n",
       "  <th>Map[T.Foy]</th>               <td>    0.3690</td> <td>    0.800</td> <td>    0.461</td> <td> 0.647</td> <td>   -1.243</td> <td>    1.981</td>\n",
       "</tr>\n",
       "<tr>\n",
       "  <th>Map[T.Hill 400]</th>          <td>   -0.1938</td> <td>    0.879</td> <td>   -0.220</td> <td> 0.827</td> <td>   -1.966</td> <td>    1.578</td>\n",
       "</tr>\n",
       "<tr>\n",
       "  <th>Map[T.Hurtgen Forest]</th>    <td>   -0.6907</td> <td>    1.009</td> <td>   -0.685</td> <td> 0.497</td> <td>   -2.724</td> <td>    1.343</td>\n",
       "</tr>\n",
       "<tr>\n",
       "  <th>Map[T.Kursk]</th>             <td>    0.0093</td> <td>    1.073</td> <td>    0.009</td> <td> 0.993</td> <td>   -2.153</td> <td>    2.171</td>\n",
       "</tr>\n",
       "<tr>\n",
       "  <th>Map[T.Omaha Beach]</th>       <td>    1.1954</td> <td>    1.047</td> <td>    1.142</td> <td> 0.260</td> <td>   -0.914</td> <td>    3.305</td>\n",
       "</tr>\n",
       "<tr>\n",
       "  <th>Map[T.Purple Heart Lane]</th> <td>   -0.7306</td> <td>    0.911</td> <td>   -0.802</td> <td> 0.427</td> <td>   -2.566</td> <td>    1.105</td>\n",
       "</tr>\n",
       "<tr>\n",
       "  <th>Map[T.St Marie Du Mont]</th>  <td>   -0.7825</td> <td>    0.883</td> <td>   -0.887</td> <td> 0.380</td> <td>   -2.561</td> <td>    0.996</td>\n",
       "</tr>\n",
       "<tr>\n",
       "  <th>Map[T.St Mere Eglise]</th>    <td>   -0.5611</td> <td>    0.797</td> <td>   -0.704</td> <td> 0.485</td> <td>   -2.166</td> <td>    1.044</td>\n",
       "</tr>\n",
       "<tr>\n",
       "  <th>Map[T.Stalingrad]</th>        <td>    1.1153</td> <td>    1.115</td> <td>    1.000</td> <td> 0.323</td> <td>   -1.133</td> <td>    3.363</td>\n",
       "</tr>\n",
       "<tr>\n",
       "  <th>Map[T.Utah Beach]</th>        <td>   -0.1526</td> <td>    0.814</td> <td>   -0.187</td> <td> 0.852</td> <td>   -1.794</td> <td>    1.489</td>\n",
       "</tr>\n",
       "<tr>\n",
       "  <th>Mode[T.W]</th>                <td>    2.3785</td> <td>    0.718</td> <td>    3.311</td> <td> 0.002</td> <td>    0.931</td> <td>    3.826</td>\n",
       "</tr>\n",
       "<tr>\n",
       "  <th>Side[T.S]</th>                <td>   -0.5173</td> <td>    0.858</td> <td>   -0.603</td> <td> 0.550</td> <td>   -2.246</td> <td>    1.212</td>\n",
       "</tr>\n",
       "<tr>\n",
       "  <th>Side[T.U]</th>                <td>    0.6033</td> <td>    0.429</td> <td>    1.407</td> <td> 0.166</td> <td>   -0.261</td> <td>    1.467</td>\n",
       "</tr>\n",
       "<tr>\n",
       "  <th>Nodes</th>                    <td>    0.0772</td> <td>    0.300</td> <td>    0.257</td> <td> 0.798</td> <td>   -0.528</td> <td>    0.682</td>\n",
       "</tr>\n",
       "<tr>\n",
       "  <th>SL_Qual</th>                  <td>    2.0210</td> <td>    0.345</td> <td>    5.850</td> <td> 0.000</td> <td>    1.325</td> <td>    2.717</td>\n",
       "</tr>\n",
       "</table>\n",
       "<table class=\"simpletable\">\n",
       "<tr>\n",
       "  <th>Omnibus:</th>       <td> 1.027</td> <th>  Durbin-Watson:     </th> <td>   2.526</td>\n",
       "</tr>\n",
       "<tr>\n",
       "  <th>Prob(Omnibus):</th> <td> 0.598</td> <th>  Jarque-Bera (JB):  </th> <td>   0.816</td>\n",
       "</tr>\n",
       "<tr>\n",
       "  <th>Skew:</th>          <td>-0.284</td> <th>  Prob(JB):          </th> <td>   0.665</td>\n",
       "</tr>\n",
       "<tr>\n",
       "  <th>Kurtosis:</th>      <td> 2.939</td> <th>  Cond. No.          </th> <td>    46.1</td>\n",
       "</tr>\n",
       "</table><br/><br/>Notes:<br/>[1] Standard Errors assume that the covariance matrix of the errors is correctly specified."
      ],
      "text/plain": [
       "<class 'statsmodels.iolib.summary.Summary'>\n",
       "\"\"\"\n",
       "                            OLS Regression Results                            \n",
       "==============================================================================\n",
       "Dep. Variable:                 Points   R-squared:                       0.686\n",
       "Model:                            OLS   Adj. R-squared:                  0.578\n",
       "Method:                 Least Squares   F-statistic:                     6.398\n",
       "Date:                Sun, 30 Jan 2022   Prob (F-statistic):           6.72e-07\n",
       "Time:                        18:47:46   Log-Likelihood:                -93.914\n",
       "No. Observations:                  60   AIC:                             219.8\n",
       "Df Residuals:                      44   BIC:                             253.3\n",
       "Df Model:                          15                                         \n",
       "Covariance Type:            nonrobust                                         \n",
       "============================================================================================\n",
       "                               coef    std err          t      P>|t|      [0.025      0.975]\n",
       "--------------------------------------------------------------------------------------------\n",
       "Intercept                   -4.1214      1.127     -3.657      0.001      -6.393      -1.850\n",
       "Map[T.Foy]                   0.3690      0.800      0.461      0.647      -1.243       1.981\n",
       "Map[T.Hill 400]             -0.1938      0.879     -0.220      0.827      -1.966       1.578\n",
       "Map[T.Hurtgen Forest]       -0.6907      1.009     -0.685      0.497      -2.724       1.343\n",
       "Map[T.Kursk]                 0.0093      1.073      0.009      0.993      -2.153       2.171\n",
       "Map[T.Omaha Beach]           1.1954      1.047      1.142      0.260      -0.914       3.305\n",
       "Map[T.Purple Heart Lane]    -0.7306      0.911     -0.802      0.427      -2.566       1.105\n",
       "Map[T.St Marie Du Mont]     -0.7825      0.883     -0.887      0.380      -2.561       0.996\n",
       "Map[T.St Mere Eglise]       -0.5611      0.797     -0.704      0.485      -2.166       1.044\n",
       "Map[T.Stalingrad]            1.1153      1.115      1.000      0.323      -1.133       3.363\n",
       "Map[T.Utah Beach]           -0.1526      0.814     -0.187      0.852      -1.794       1.489\n",
       "Mode[T.W]                    2.3785      0.718      3.311      0.002       0.931       3.826\n",
       "Side[T.S]                   -0.5173      0.858     -0.603      0.550      -2.246       1.212\n",
       "Side[T.U]                    0.6033      0.429      1.407      0.166      -0.261       1.467\n",
       "Nodes                        0.0772      0.300      0.257      0.798      -0.528       0.682\n",
       "SL_Qual                      2.0210      0.345      5.850      0.000       1.325       2.717\n",
       "==============================================================================\n",
       "Omnibus:                        1.027   Durbin-Watson:                   2.526\n",
       "Prob(Omnibus):                  0.598   Jarque-Bera (JB):                0.816\n",
       "Skew:                          -0.284   Prob(JB):                        0.665\n",
       "Kurtosis:                       2.939   Cond. No.                         46.1\n",
       "==============================================================================\n",
       "\n",
       "Notes:\n",
       "[1] Standard Errors assume that the covariance matrix of the errors is correctly specified.\n",
       "\"\"\""
      ]
     },
     "execution_count": 93,
     "metadata": {},
     "output_type": "execute_result"
    }
   ],
   "source": [
    "from statsmodels.formula.api import ols\n",
    "\n",
    "X = hll_df[['Map', 'Mode', 'Side', 'Nodes', 'SL_Qual']] \n",
    "\n",
    "y = hll_df['Points']\n",
    "\n",
    "X = sm.add_constant(X)\n",
    "est = ols('Points ~ Map + Mode + Side + Nodes + SL_Qual', data = hll_df).fit()\n",
    "est.summary()"
   ]
  },
  {
   "cell_type": "markdown",
   "metadata": {},
   "source": [
    "ANOVA:"
   ]
  },
  {
   "cell_type": "code",
   "execution_count": 94,
   "metadata": {},
   "outputs": [
    {
     "data": {
      "text/html": [
       "<div>\n",
       "<style scoped>\n",
       "    .dataframe tbody tr th:only-of-type {\n",
       "        vertical-align: middle;\n",
       "    }\n",
       "\n",
       "    .dataframe tbody tr th {\n",
       "        vertical-align: top;\n",
       "    }\n",
       "\n",
       "    .dataframe thead th {\n",
       "        text-align: right;\n",
       "    }\n",
       "</style>\n",
       "<table border=\"1\" class=\"dataframe\">\n",
       "  <thead>\n",
       "    <tr style=\"text-align: right;\">\n",
       "      <th></th>\n",
       "      <th>sum_sq</th>\n",
       "      <th>df</th>\n",
       "      <th>F</th>\n",
       "      <th>PR(&gt;F)</th>\n",
       "    </tr>\n",
       "  </thead>\n",
       "  <tbody>\n",
       "    <tr>\n",
       "      <th>Map</th>\n",
       "      <td>12.889119</td>\n",
       "      <td>10.0</td>\n",
       "      <td>0.705431</td>\n",
       "      <td>7.142762e-01</td>\n",
       "    </tr>\n",
       "    <tr>\n",
       "      <th>Mode</th>\n",
       "      <td>20.027299</td>\n",
       "      <td>1.0</td>\n",
       "      <td>10.961089</td>\n",
       "      <td>1.864208e-03</td>\n",
       "    </tr>\n",
       "    <tr>\n",
       "      <th>Side</th>\n",
       "      <td>4.226684</td>\n",
       "      <td>2.0</td>\n",
       "      <td>1.156648</td>\n",
       "      <td>3.239170e-01</td>\n",
       "    </tr>\n",
       "    <tr>\n",
       "      <th>Nodes</th>\n",
       "      <td>0.120838</td>\n",
       "      <td>1.0</td>\n",
       "      <td>0.066135</td>\n",
       "      <td>7.982478e-01</td>\n",
       "    </tr>\n",
       "    <tr>\n",
       "      <th>SL_Qual</th>\n",
       "      <td>62.522370</td>\n",
       "      <td>1.0</td>\n",
       "      <td>34.218955</td>\n",
       "      <td>5.609745e-07</td>\n",
       "    </tr>\n",
       "    <tr>\n",
       "      <th>Residual</th>\n",
       "      <td>80.393579</td>\n",
       "      <td>44.0</td>\n",
       "      <td>NaN</td>\n",
       "      <td>NaN</td>\n",
       "    </tr>\n",
       "  </tbody>\n",
       "</table>\n",
       "</div>"
      ],
      "text/plain": [
       "             sum_sq    df          F        PR(>F)\n",
       "Map       12.889119  10.0   0.705431  7.142762e-01\n",
       "Mode      20.027299   1.0  10.961089  1.864208e-03\n",
       "Side       4.226684   2.0   1.156648  3.239170e-01\n",
       "Nodes      0.120838   1.0   0.066135  7.982478e-01\n",
       "SL_Qual   62.522370   1.0  34.218955  5.609745e-07\n",
       "Residual  80.393579  44.0        NaN           NaN"
      ]
     },
     "execution_count": 94,
     "metadata": {},
     "output_type": "execute_result"
    }
   ],
   "source": [
    "from statsmodels.stats.anova import anova_lm\n",
    "\n",
    "table = sm.stats.anova_lm(est, typ=2)\n",
    "\n",
    "table"
   ]
  },
  {
   "cell_type": "markdown",
   "metadata": {},
   "source": [
    "Before we eliminate any factors as not significant, we will check for multicolinearity using VIF (Variance Inflation Factor) as our metric. We will need to create dummy variables for our categorical factors:"
   ]
  },
  {
   "cell_type": "code",
   "execution_count": 95,
   "metadata": {},
   "outputs": [
    {
     "name": "stdout",
     "output_type": "stream",
     "text": [
      "<class 'pandas.core.frame.DataFrame'>\n",
      "Int64Index: 60 entries, 1 to 60\n",
      "Data columns (total 22 columns):\n",
      " #   Column                 Non-Null Count  Dtype \n",
      "---  ------                 --------------  ----- \n",
      " 0   Date                   60 non-null     object\n",
      " 1   Takeover               60 non-null     int64 \n",
      " 2   Nodes                  60 non-null     int64 \n",
      " 3   SL_Qual                60 non-null     int64 \n",
      " 4   Points                 60 non-null     int64 \n",
      " 5   Win                    60 non-null     int64 \n",
      " 6   Map_Carentan           60 non-null     uint8 \n",
      " 7   Map_Foy                60 non-null     uint8 \n",
      " 8   Map_Hill 400           60 non-null     uint8 \n",
      " 9   Map_Hurtgen Forest     60 non-null     uint8 \n",
      " 10  Map_Kursk              60 non-null     uint8 \n",
      " 11  Map_Omaha Beach        60 non-null     uint8 \n",
      " 12  Map_Purple Heart Lane  60 non-null     uint8 \n",
      " 13  Map_St Marie Du Mont   60 non-null     uint8 \n",
      " 14  Map_St Mere Eglise     60 non-null     uint8 \n",
      " 15  Map_Stalingrad         60 non-null     uint8 \n",
      " 16  Map_Utah Beach         60 non-null     uint8 \n",
      " 17  Mode_O                 60 non-null     uint8 \n",
      " 18  Mode_W                 60 non-null     uint8 \n",
      " 19  Side_G                 60 non-null     uint8 \n",
      " 20  Side_S                 60 non-null     uint8 \n",
      " 21  Side_U                 60 non-null     uint8 \n",
      "dtypes: int64(5), object(1), uint8(16)\n",
      "memory usage: 4.2+ KB\n"
     ]
    }
   ],
   "source": [
    "# Create Dummy Variables\n",
    "\n",
    "hll_df2 = pd.get_dummies(data = hll_df, columns = [\"Map\", \"Mode\", \"Side\"])\n",
    "\n",
    "hll_df2.info()"
   ]
  },
  {
   "cell_type": "code",
   "execution_count": 96,
   "metadata": {},
   "outputs": [
    {
     "name": "stdout",
     "output_type": "stream",
     "text": [
      "<class 'pandas.core.frame.DataFrame'>\n",
      "Int64Index: 60 entries, 1 to 60\n",
      "Data columns (total 19 columns):\n",
      " #   Column                 Non-Null Count  Dtype \n",
      "---  ------                 --------------  ----- \n",
      " 0   Date                   60 non-null     object\n",
      " 1   Takeover               60 non-null     int64 \n",
      " 2   Nodes                  60 non-null     int64 \n",
      " 3   SL_Qual                60 non-null     int64 \n",
      " 4   Points                 60 non-null     int64 \n",
      " 5   Win                    60 non-null     int64 \n",
      " 6   Map_Carentan           60 non-null     uint8 \n",
      " 7   Map_Foy                60 non-null     uint8 \n",
      " 8   Map_Hill 400           60 non-null     uint8 \n",
      " 9   Map_Hurtgen Forest     60 non-null     uint8 \n",
      " 10  Map_Kursk              60 non-null     uint8 \n",
      " 11  Map_Omaha Beach        60 non-null     uint8 \n",
      " 12  Map_Purple Heart Lane  60 non-null     uint8 \n",
      " 13  Map_St Marie Du Mont   60 non-null     uint8 \n",
      " 14  Map_St Mere Eglise     60 non-null     uint8 \n",
      " 15  Map_Stalingrad         60 non-null     uint8 \n",
      " 16  Mode_O                 60 non-null     uint8 \n",
      " 17  Side_G                 60 non-null     uint8 \n",
      " 18  Side_S                 60 non-null     uint8 \n",
      "dtypes: int64(5), object(1), uint8(13)\n",
      "memory usage: 4.0+ KB\n"
     ]
    }
   ],
   "source": [
    "# Drop last dummy variable for each category (following \"n-1\" rule)\n",
    "\n",
    "hll_df2.drop([\"Map_Utah Beach\", \"Mode_W\", \"Side_U\"], axis = 1, inplace = True)\n",
    "\n",
    "hll_df2.info()"
   ]
  },
  {
   "cell_type": "code",
   "execution_count": 97,
   "metadata": {},
   "outputs": [
    {
     "data": {
      "text/plain": [
       "Index(['Date', 'Takeover', 'Nodes', 'SL_Qual', 'Points', 'Win', 'Map_Carentan',\n",
       "       'Map_Foy', 'Map_Hill 400', 'Map_Hurtgen Forest', 'Map_Kursk',\n",
       "       'Map_Omaha Beach', 'Map_Purple Heart Lane', 'Map_St Marie Du Mont',\n",
       "       'Map_St Mere Eglise', 'Map_Stalingrad', 'Mode_O', 'Side_G', 'Side_S'],\n",
       "      dtype='object')"
      ]
     },
     "execution_count": 97,
     "metadata": {},
     "output_type": "execute_result"
    }
   ],
   "source": [
    "hll_df2.columns"
   ]
  },
  {
   "cell_type": "code",
   "execution_count": 98,
   "metadata": {},
   "outputs": [],
   "source": [
    "from statsmodels.formula.api import ols\n",
    "\n",
    "X2 = hll_df2[['Nodes', 'SL_Qual', 'Map_Carentan',\n",
    "       'Map_Foy', 'Map_Hill 400', 'Map_Hurtgen Forest', 'Map_Kursk',\n",
    "       'Map_Omaha Beach', 'Map_Purple Heart Lane', 'Map_St Marie Du Mont',\n",
    "       'Map_St Mere Eglise', 'Map_Stalingrad', 'Mode_O', 'Side_G', 'Side_S']] \n",
    "\n",
    "X2 = sm.add_constant(X2)\n",
    "\n",
    "y2 = hll_df['Points']\n",
    "\n"
   ]
  },
  {
   "cell_type": "code",
   "execution_count": 99,
   "metadata": {},
   "outputs": [
    {
     "data": {
      "text/html": [
       "<div>\n",
       "<style scoped>\n",
       "    .dataframe tbody tr th:only-of-type {\n",
       "        vertical-align: middle;\n",
       "    }\n",
       "\n",
       "    .dataframe tbody tr th {\n",
       "        vertical-align: top;\n",
       "    }\n",
       "\n",
       "    .dataframe thead th {\n",
       "        text-align: right;\n",
       "    }\n",
       "</style>\n",
       "<table border=\"1\" class=\"dataframe\">\n",
       "  <thead>\n",
       "    <tr style=\"text-align: right;\">\n",
       "      <th></th>\n",
       "      <th>Features</th>\n",
       "      <th>VIF</th>\n",
       "    </tr>\n",
       "  </thead>\n",
       "  <tbody>\n",
       "    <tr>\n",
       "      <th>0</th>\n",
       "      <td>const</td>\n",
       "      <td>28.18</td>\n",
       "    </tr>\n",
       "    <tr>\n",
       "      <th>15</th>\n",
       "      <td>Side_S</td>\n",
       "      <td>3.16</td>\n",
       "    </tr>\n",
       "    <tr>\n",
       "      <th>12</th>\n",
       "      <td>Map_Stalingrad</td>\n",
       "      <td>3.11</td>\n",
       "    </tr>\n",
       "    <tr>\n",
       "      <th>8</th>\n",
       "      <td>Map_Omaha Beach</td>\n",
       "      <td>2.40</td>\n",
       "    </tr>\n",
       "    <tr>\n",
       "      <th>7</th>\n",
       "      <td>Map_Kursk</td>\n",
       "      <td>2.38</td>\n",
       "    </tr>\n",
       "    <tr>\n",
       "      <th>2</th>\n",
       "      <td>SL_Qual</td>\n",
       "      <td>2.22</td>\n",
       "    </tr>\n",
       "    <tr>\n",
       "      <th>4</th>\n",
       "      <td>Map_Foy</td>\n",
       "      <td>2.02</td>\n",
       "    </tr>\n",
       "    <tr>\n",
       "      <th>1</th>\n",
       "      <td>Nodes</td>\n",
       "      <td>1.96</td>\n",
       "    </tr>\n",
       "    <tr>\n",
       "      <th>13</th>\n",
       "      <td>Mode_O</td>\n",
       "      <td>1.96</td>\n",
       "    </tr>\n",
       "    <tr>\n",
       "      <th>11</th>\n",
       "      <td>Map_St Mere Eglise</td>\n",
       "      <td>1.82</td>\n",
       "    </tr>\n",
       "    <tr>\n",
       "      <th>3</th>\n",
       "      <td>Map_Carentan</td>\n",
       "      <td>1.66</td>\n",
       "    </tr>\n",
       "    <tr>\n",
       "      <th>5</th>\n",
       "      <td>Map_Hill 400</td>\n",
       "      <td>1.66</td>\n",
       "    </tr>\n",
       "    <tr>\n",
       "      <th>10</th>\n",
       "      <td>Map_St Marie Du Mont</td>\n",
       "      <td>1.60</td>\n",
       "    </tr>\n",
       "    <tr>\n",
       "      <th>6</th>\n",
       "      <td>Map_Hurtgen Forest</td>\n",
       "      <td>1.59</td>\n",
       "    </tr>\n",
       "    <tr>\n",
       "      <th>9</th>\n",
       "      <td>Map_Purple Heart Lane</td>\n",
       "      <td>1.59</td>\n",
       "    </tr>\n",
       "    <tr>\n",
       "      <th>14</th>\n",
       "      <td>Side_G</td>\n",
       "      <td>1.51</td>\n",
       "    </tr>\n",
       "  </tbody>\n",
       "</table>\n",
       "</div>"
      ],
      "text/plain": [
       "                 Features    VIF\n",
       "0                   const  28.18\n",
       "15                 Side_S   3.16\n",
       "12         Map_Stalingrad   3.11\n",
       "8         Map_Omaha Beach   2.40\n",
       "7               Map_Kursk   2.38\n",
       "2                 SL_Qual   2.22\n",
       "4                 Map_Foy   2.02\n",
       "1                   Nodes   1.96\n",
       "13                 Mode_O   1.96\n",
       "11     Map_St Mere Eglise   1.82\n",
       "3            Map_Carentan   1.66\n",
       "5            Map_Hill 400   1.66\n",
       "10   Map_St Marie Du Mont   1.60\n",
       "6      Map_Hurtgen Forest   1.59\n",
       "9   Map_Purple Heart Lane   1.59\n",
       "14                 Side_G   1.51"
      ]
     },
     "execution_count": 99,
     "metadata": {},
     "output_type": "execute_result"
    }
   ],
   "source": [
    "from statsmodels.stats.outliers_influence import variance_inflation_factor\n",
    "\n",
    "# Creating a dataframe that will contain the names of all the feature variables and their VIFs\n",
    "vif = pd.DataFrame()\n",
    "vif['Features'] = X2.columns\n",
    "vif['VIF'] = [variance_inflation_factor(X2.values, i) for i in range(X2.shape[1])]\n",
    "vif['VIF'] = round(vif['VIF'], 2)\n",
    "vif = vif.sort_values(by = \"VIF\", ascending = False)\n",
    "vif"
   ]
  },
  {
   "cell_type": "markdown",
   "metadata": {},
   "source": [
    "We will use the generally accepted rule of thumb that any factor with a VIF > 5 is highly correlated, and should be removed from our model. Here, none of our factors meet that criteria."
   ]
  },
  {
   "cell_type": "markdown",
   "metadata": {},
   "source": [
    "From our first look, it appears that the most important factors in point outcome are: Squad Lead Quality and Mode. We'll confirm this using Recursive Feature Elimination (RFE). "
   ]
  },
  {
   "cell_type": "markdown",
   "metadata": {},
   "source": [
    "## Recursive Feature Elimination:\n",
    "\n",
    "This is an automated process that gradually removes insignificant features until only the most important features remain. Let's start with the top 5 most important features:"
   ]
  },
  {
   "cell_type": "code",
   "execution_count": 100,
   "metadata": {},
   "outputs": [],
   "source": [
    "from sklearn.feature_selection import RFE\n",
    "from sklearn.linear_model import LinearRegression\n",
    "from sklearn.feature_selection import RFECV"
   ]
  },
  {
   "cell_type": "code",
   "execution_count": 106,
   "metadata": {},
   "outputs": [
    {
     "data": {
      "text/plain": [
       "[('const', False, 12),\n",
       " ('Nodes', False, 10),\n",
       " ('SL_Qual', True, 1),\n",
       " ('Map_Carentan', False, 9),\n",
       " ('Map_Foy', False, 7),\n",
       " ('Map_Hill 400', False, 11),\n",
       " ('Map_Hurtgen Forest', False, 5),\n",
       " ('Map_Kursk', False, 8),\n",
       " ('Map_Omaha Beach', True, 1),\n",
       " ('Map_Purple Heart Lane', False, 4),\n",
       " ('Map_St Marie Du Mont', True, 1),\n",
       " ('Map_St Mere Eglise', False, 6),\n",
       " ('Map_Stalingrad', True, 1),\n",
       " ('Mode_O', True, 1),\n",
       " ('Side_G', False, 3),\n",
       " ('Side_S', False, 2)]"
      ]
     },
     "execution_count": 106,
     "metadata": {},
     "output_type": "execute_result"
    }
   ],
   "source": [
    "lm = LinearRegression()\n",
    "lm.fit(X2, y)\n",
    "\n",
    "rfe = RFE(lm, 5)             # running RFE\n",
    "rfe = rfe.fit(X2, y)\n",
    "\n",
    "list(zip(X2.columns,rfe.support_,rfe.ranking_))"
   ]
  },
  {
   "cell_type": "code",
   "execution_count": 108,
   "metadata": {},
   "outputs": [
    {
     "data": {
      "text/plain": [
       "Index(['SL_Qual', 'Map_Omaha Beach', 'Map_St Marie Du Mont', 'Map_Stalingrad',\n",
       "       'Mode_O', 'Side_S'],\n",
       "      dtype='object')"
      ]
     },
     "execution_count": 108,
     "metadata": {},
     "output_type": "execute_result"
    }
   ],
   "source": [
    "rfecv = RFECV(\n",
    "    estimator=LinearRegression(),\n",
    "    min_features_to_select=1,\n",
    "    step=5,\n",
    "    n_jobs=-1,\n",
    "    scoring=\"r2\",\n",
    "    cv=5,\n",
    ")\n",
    "\n",
    "_ = rfecv.fit(X2, y)\n",
    "\n",
    "X2.columns[rfecv.support_]"
   ]
  },
  {
   "cell_type": "code",
   "execution_count": 114,
   "metadata": {},
   "outputs": [
    {
     "data": {
      "text/html": [
       "<table class=\"simpletable\">\n",
       "<caption>OLS Regression Results</caption>\n",
       "<tr>\n",
       "  <th>Dep. Variable:</th>         <td>Points</td>      <th>  R-squared:         </th> <td>   0.650</td>\n",
       "</tr>\n",
       "<tr>\n",
       "  <th>Model:</th>                   <td>OLS</td>       <th>  Adj. R-squared:    </th> <td>   0.611</td>\n",
       "</tr>\n",
       "<tr>\n",
       "  <th>Method:</th>             <td>Least Squares</td>  <th>  F-statistic:       </th> <td>   16.42</td>\n",
       "</tr>\n",
       "<tr>\n",
       "  <th>Date:</th>             <td>Sun, 30 Jan 2022</td> <th>  Prob (F-statistic):</th> <td>1.41e-10</td>\n",
       "</tr>\n",
       "<tr>\n",
       "  <th>Time:</th>                 <td>19:05:30</td>     <th>  Log-Likelihood:    </th> <td> -97.121</td>\n",
       "</tr>\n",
       "<tr>\n",
       "  <th>No. Observations:</th>      <td>    60</td>      <th>  AIC:               </th> <td>   208.2</td>\n",
       "</tr>\n",
       "<tr>\n",
       "  <th>Df Residuals:</th>          <td>    53</td>      <th>  BIC:               </th> <td>   222.9</td>\n",
       "</tr>\n",
       "<tr>\n",
       "  <th>Df Model:</th>              <td>     6</td>      <th>                     </th>     <td> </td>   \n",
       "</tr>\n",
       "<tr>\n",
       "  <th>Covariance Type:</th>      <td>nonrobust</td>    <th>                     </th>     <td> </td>   \n",
       "</tr>\n",
       "</table>\n",
       "<table class=\"simpletable\">\n",
       "<tr>\n",
       "            <td></td>              <th>coef</th>     <th>std err</th>      <th>t</th>      <th>P>|t|</th>  <th>[0.025</th>    <th>0.975]</th>  \n",
       "</tr>\n",
       "<tr>\n",
       "  <th>const</th>                <td>   -1.9092</td> <td>    0.559</td> <td>   -3.416</td> <td> 0.001</td> <td>   -3.030</td> <td>   -0.788</td>\n",
       "</tr>\n",
       "<tr>\n",
       "  <th>SL_Qual</th>              <td>    2.1986</td> <td>    0.232</td> <td>    9.458</td> <td> 0.000</td> <td>    1.732</td> <td>    2.665</td>\n",
       "</tr>\n",
       "<tr>\n",
       "  <th>Map_Omaha Beach</th>      <td>    1.0479</td> <td>    0.784</td> <td>    1.337</td> <td> 0.187</td> <td>   -0.524</td> <td>    2.620</td>\n",
       "</tr>\n",
       "<tr>\n",
       "  <th>Map_St Marie Du Mont</th> <td>   -0.7675</td> <td>    0.617</td> <td>   -1.244</td> <td> 0.219</td> <td>   -2.005</td> <td>    0.470</td>\n",
       "</tr>\n",
       "<tr>\n",
       "  <th>Map_Stalingrad</th>       <td>    0.9183</td> <td>    0.724</td> <td>    1.268</td> <td> 0.210</td> <td>   -0.535</td> <td>    2.371</td>\n",
       "</tr>\n",
       "<tr>\n",
       "  <th>Mode_O</th>               <td>   -2.0689</td> <td>    0.656</td> <td>   -3.153</td> <td> 0.003</td> <td>   -3.385</td> <td>   -0.753</td>\n",
       "</tr>\n",
       "<tr>\n",
       "  <th>Side_S</th>               <td>   -0.5734</td> <td>    0.646</td> <td>   -0.887</td> <td> 0.379</td> <td>   -1.870</td> <td>    0.723</td>\n",
       "</tr>\n",
       "</table>\n",
       "<table class=\"simpletable\">\n",
       "<tr>\n",
       "  <th>Omnibus:</th>       <td> 0.114</td> <th>  Durbin-Watson:     </th> <td>   2.604</td>\n",
       "</tr>\n",
       "<tr>\n",
       "  <th>Prob(Omnibus):</th> <td> 0.945</td> <th>  Jarque-Bera (JB):  </th> <td>   0.309</td>\n",
       "</tr>\n",
       "<tr>\n",
       "  <th>Skew:</th>          <td>-0.038</td> <th>  Prob(JB):          </th> <td>   0.857</td>\n",
       "</tr>\n",
       "<tr>\n",
       "  <th>Kurtosis:</th>      <td> 2.657</td> <th>  Cond. No.          </th> <td>    15.8</td>\n",
       "</tr>\n",
       "</table><br/><br/>Notes:<br/>[1] Standard Errors assume that the covariance matrix of the errors is correctly specified."
      ],
      "text/plain": [
       "<class 'statsmodels.iolib.summary.Summary'>\n",
       "\"\"\"\n",
       "                            OLS Regression Results                            \n",
       "==============================================================================\n",
       "Dep. Variable:                 Points   R-squared:                       0.650\n",
       "Model:                            OLS   Adj. R-squared:                  0.611\n",
       "Method:                 Least Squares   F-statistic:                     16.42\n",
       "Date:                Sun, 30 Jan 2022   Prob (F-statistic):           1.41e-10\n",
       "Time:                        19:05:30   Log-Likelihood:                -97.121\n",
       "No. Observations:                  60   AIC:                             208.2\n",
       "Df Residuals:                      53   BIC:                             222.9\n",
       "Df Model:                           6                                         \n",
       "Covariance Type:            nonrobust                                         \n",
       "========================================================================================\n",
       "                           coef    std err          t      P>|t|      [0.025      0.975]\n",
       "----------------------------------------------------------------------------------------\n",
       "const                   -1.9092      0.559     -3.416      0.001      -3.030      -0.788\n",
       "SL_Qual                  2.1986      0.232      9.458      0.000       1.732       2.665\n",
       "Map_Omaha Beach          1.0479      0.784      1.337      0.187      -0.524       2.620\n",
       "Map_St Marie Du Mont    -0.7675      0.617     -1.244      0.219      -2.005       0.470\n",
       "Map_Stalingrad           0.9183      0.724      1.268      0.210      -0.535       2.371\n",
       "Mode_O                  -2.0689      0.656     -3.153      0.003      -3.385      -0.753\n",
       "Side_S                  -0.5734      0.646     -0.887      0.379      -1.870       0.723\n",
       "==============================================================================\n",
       "Omnibus:                        0.114   Durbin-Watson:                   2.604\n",
       "Prob(Omnibus):                  0.945   Jarque-Bera (JB):                0.309\n",
       "Skew:                          -0.038   Prob(JB):                        0.857\n",
       "Kurtosis:                       2.657   Cond. No.                         15.8\n",
       "==============================================================================\n",
       "\n",
       "Notes:\n",
       "[1] Standard Errors assume that the covariance matrix of the errors is correctly specified.\n",
       "\"\"\""
      ]
     },
     "execution_count": 114,
     "metadata": {},
     "output_type": "execute_result"
    }
   ],
   "source": [
    "X2 = hll_df2[['SL_Qual', 'Map_Omaha Beach', 'Map_St Marie Du Mont', 'Map_Stalingrad',\n",
    "       'Mode_O', 'Side_S']] \n",
    "\n",
    "y = hll_df2['Points']\n",
    "\n",
    "X2 = sm.add_constant(X2)\n",
    "est = sm.OLS(y, X2).fit()\n",
    "est.summary()"
   ]
  },
  {
   "cell_type": "markdown",
   "metadata": {},
   "source": [
    "VIF Check:"
   ]
  },
  {
   "cell_type": "code",
   "execution_count": 110,
   "metadata": {},
   "outputs": [
    {
     "data": {
      "text/html": [
       "<div>\n",
       "<style scoped>\n",
       "    .dataframe tbody tr th:only-of-type {\n",
       "        vertical-align: middle;\n",
       "    }\n",
       "\n",
       "    .dataframe tbody tr th {\n",
       "        vertical-align: top;\n",
       "    }\n",
       "\n",
       "    .dataframe thead th {\n",
       "        text-align: right;\n",
       "    }\n",
       "</style>\n",
       "<table border=\"1\" class=\"dataframe\">\n",
       "  <thead>\n",
       "    <tr style=\"text-align: right;\">\n",
       "      <th></th>\n",
       "      <th>Features</th>\n",
       "      <th>VIF</th>\n",
       "    </tr>\n",
       "  </thead>\n",
       "  <tbody>\n",
       "    <tr>\n",
       "      <th>0</th>\n",
       "      <td>const</td>\n",
       "      <td>11.10</td>\n",
       "    </tr>\n",
       "    <tr>\n",
       "      <th>5</th>\n",
       "      <td>Mode_O</td>\n",
       "      <td>1.77</td>\n",
       "    </tr>\n",
       "    <tr>\n",
       "      <th>4</th>\n",
       "      <td>Map_Stalingrad</td>\n",
       "      <td>1.68</td>\n",
       "    </tr>\n",
       "    <tr>\n",
       "      <th>2</th>\n",
       "      <td>Map_Omaha Beach</td>\n",
       "      <td>1.67</td>\n",
       "    </tr>\n",
       "    <tr>\n",
       "      <th>6</th>\n",
       "      <td>Side_S</td>\n",
       "      <td>1.53</td>\n",
       "    </tr>\n",
       "    <tr>\n",
       "      <th>1</th>\n",
       "      <td>SL_Qual</td>\n",
       "      <td>1.09</td>\n",
       "    </tr>\n",
       "    <tr>\n",
       "      <th>3</th>\n",
       "      <td>Map_St Marie Du Mont</td>\n",
       "      <td>1.03</td>\n",
       "    </tr>\n",
       "  </tbody>\n",
       "</table>\n",
       "</div>"
      ],
      "text/plain": [
       "               Features    VIF\n",
       "0                 const  11.10\n",
       "5                Mode_O   1.77\n",
       "4        Map_Stalingrad   1.68\n",
       "2       Map_Omaha Beach   1.67\n",
       "6                Side_S   1.53\n",
       "1               SL_Qual   1.09\n",
       "3  Map_St Marie Du Mont   1.03"
      ]
     },
     "execution_count": 110,
     "metadata": {},
     "output_type": "execute_result"
    }
   ],
   "source": [
    "from statsmodels.stats.outliers_influence import variance_inflation_factor\n",
    "\n",
    "vif = pd.DataFrame()\n",
    "vif['Features'] = X2.columns\n",
    "vif['VIF'] = [variance_inflation_factor(X2.values, i) for i in range(X2.shape[1])]\n",
    "vif['VIF'] = round(vif['VIF'], 2)\n",
    "vif = vif.sort_values(by = \"VIF\", ascending = False)\n",
    "vif"
   ]
  },
  {
   "cell_type": "markdown",
   "metadata": {},
   "source": [
    "## Conclusion"
   ]
  },
  {
   "cell_type": "markdown",
   "metadata": {},
   "source": [
    "**When it comes to victory points, Nodes don't matter.** We were able to eliminate this factor fairly early in our analysis. Interestingly, this analysis period covers the Update 11 change to the Commander's ability \"Encourage.\" Even with this nerf, nodes still are not a significant factor in the outcome of the game. The Node mechanics in Hell Let Loose need to be changed in order to make this a value-added game feature.\n",
    "\n",
    "The top three factors that effect a match's outcome are, in order: Squad Leader Quality, Game Mode, and Whether or not you're playing Omaha Beach. These conclusions are not particularly groundbreaking to anyone who is a long term veteran of the game, but I hope that this analysis has shed some light on the commonly held conceptions that most players have.\n",
    "\n",
    "In the future, we should look to somehow incorporate Tank effectiveness as a separate category in our analysis, since there is a good chance that it effects game outcome. Did I miss anything else? Let me know what you think should be included!\n",
    "\n",
    "*Note: All of these findings are simply results from my specific sample. They could easily change with more data.*"
   ]
  }
 ],
 "metadata": {
  "interpreter": {
   "hash": "bacdf26ad233b22ff1cb926c9eb96cf5673268ba8d7652bc9273d93497b5357b"
  },
  "kernelspec": {
   "display_name": "Python 3.9.5 64-bit ('base': conda)",
   "language": "python",
   "name": "python3"
  },
  "language_info": {
   "codemirror_mode": {
    "name": "ipython",
    "version": 3
   },
   "file_extension": ".py",
   "mimetype": "text/x-python",
   "name": "python",
   "nbconvert_exporter": "python",
   "pygments_lexer": "ipython3",
   "version": "3.9.5"
  },
  "orig_nbformat": 4
 },
 "nbformat": 4,
 "nbformat_minor": 2
}
